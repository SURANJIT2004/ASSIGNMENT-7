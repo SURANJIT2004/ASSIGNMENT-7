{
 "cells": [
  {
   "cell_type": "markdown",
   "id": "bba03b7c-d88a-4fda-82a9-3302644cdc69",
   "metadata": {},
   "source": [
    "### Write a Python program to read first n lines of a file.\t"
   ]
  },
  {
   "cell_type": "code",
   "execution_count": 1,
   "id": "f557694a-74cb-4533-9217-fbdd55b0d2aa",
   "metadata": {},
   "outputs": [
    {
     "name": "stdout",
     "output_type": "stream",
     "text": [
      "Hi my name is Suranjit Shaw \n"
     ]
    }
   ],
   "source": [
    "f1=open('file','w')\n",
    "a=\"Hi my name is Suranjit Shaw \"\n",
    "f1.write(a)\n",
    "f1.close()\n",
    "f1=open('file','r')\n",
    "c=f1.readline()\n",
    "print(c)\n",
    "f1.close()"
   ]
  },
  {
   "cell_type": "markdown",
   "id": "9cba560d-78fb-4dac-9735-a02e593bb103",
   "metadata": {},
   "source": [
    "### Write a Python program to append text to a file and display the text."
   ]
  },
  {
   "cell_type": "code",
   "execution_count": 2,
   "id": "dd368c28-cf6a-4879-9fd2-4209c7e20f73",
   "metadata": {},
   "outputs": [
    {
     "name": "stdout",
     "output_type": "stream",
     "text": [
      "Hi my name is Suranjit Shaw. \n",
      "Reading in ITER\n"
     ]
    }
   ],
   "source": [
    "f1=open('file','w')\n",
    "a=\"Hi my name is Suranjit Shaw. \"\n",
    "f1.write(a)\n",
    "f1.close()\n",
    "f1=open('file','a')\n",
    "d=\"\\nReading in ITER\"\n",
    "c=f1.write(d)\n",
    "f1.close()\n",
    "f1=open('file','r')\n",
    "c=f1.read()\n",
    "print(c)\n",
    "f1.close()"
   ]
  },
  {
   "cell_type": "markdown",
   "id": "936fb4b3-26a9-40a3-b999-0f8e1724cf21",
   "metadata": {},
   "source": [
    "### Write a Python program to read a file line by line and store it into a list."
   ]
  },
  {
   "cell_type": "code",
   "execution_count": 5,
   "id": "b1aee5d4-6ceb-43d5-96fa-12d00cc135d4",
   "metadata": {},
   "outputs": [
    {
     "name": "stdout",
     "output_type": "stream",
     "text": [
      "['Hi my name is Suranjit Shaw. ']\n"
     ]
    }
   ],
   "source": [
    "f1=open('file','w')\n",
    "a=\"Hi my name is Suranjit Shaw. \"\n",
    "f1.write(a)\n",
    "f1.close()\n",
    "f1=open('file','r')\n",
    "c=f1.readlines()\n",
    "print(c)\n",
    "f1.close()"
   ]
  },
  {
   "cell_type": "markdown",
   "id": "2662487d-2e05-4c37-b889-539a53511d50",
   "metadata": {},
   "source": [
    "### "
   ]
  },
  {
   "cell_type": "markdown",
   "id": "fbaf7932-b112-4889-b00e-26f3bc008039",
   "metadata": {},
   "source": [
    "### Write a python program to find the longest words."
   ]
  },
  {
   "cell_type": "code",
   "execution_count": 6,
   "id": "1b1c8ce3-8a2f-4108-acd1-215c7ee1e3d2",
   "metadata": {},
   "outputs": [
    {
     "name": "stdout",
     "output_type": "stream",
     "text": [
      "Suranjit\n"
     ]
    }
   ],
   "source": [
    "g='g'\n",
    "f1=open('file','w')\n",
    "a=\"Hi my name is Suranjit Shaw \"\n",
    "f1.write(a)\n",
    "f1.close()\n",
    "f1=open('file','r')\n",
    "c=f1.read()\n",
    "f1.close()\n",
    "b=[]\n",
    "b=c.split(\" \")\n",
    "maxi=0\n",
    "for i in range(0,len(b)):\n",
    "    if len(b[i])>maxi:\n",
    "        maxi=len(b[i])\n",
    "        g=b[i]\n",
    "print(g)\n",
    "f1.close()"
   ]
  },
  {
   "cell_type": "markdown",
   "id": "70eb0d40-e354-45f0-89b0-28a617d1a90a",
   "metadata": {},
   "source": [
    "### Write a Python program to count the number of lines in a text file."
   ]
  },
  {
   "cell_type": "code",
   "execution_count": 7,
   "id": "69281ab5-f8a8-4ae2-a4da-0ce5b36be472",
   "metadata": {},
   "outputs": [
    {
     "name": "stdout",
     "output_type": "stream",
     "text": [
      "Total Number of lines: 3\n"
     ]
    }
   ],
   "source": [
    "f1=open('file','w')\n",
    "a=\"Hi my name is Suranjit Shaw. \"\n",
    "f1.write(a)\n",
    "f1.close()\n",
    "f1=open('file','a')\n",
    "d=\"\\n Reading in ITER \\n Having regd no:2241019428\"\n",
    "c=f1.write(d)\n",
    "f1.close()\n",
    "f1=open('file','r')\n",
    "c=f1.readlines()\n",
    "print('Total Number of lines:', len(c) )\n",
    "f1.close()"
   ]
  },
  {
   "cell_type": "markdown",
   "id": "5f19885d-ab94-426c-b063-e026dbab38e8",
   "metadata": {},
   "source": [
    "### Write a Python program to count the frequency of words in a file."
   ]
  },
  {
   "cell_type": "code",
   "execution_count": 8,
   "id": "1092b738-3271-4c6c-baf9-f204349c7d1e",
   "metadata": {},
   "outputs": [
    {
     "name": "stdout",
     "output_type": "stream",
     "text": [
      "Hi my name is Suranjit Shaw. \n",
      "Reading in is ITER\n",
      "2\n"
     ]
    }
   ],
   "source": [
    "g=''\n",
    "f1=open('file','w')\n",
    "a=\"Hi my name is Suranjit Shaw. \"\n",
    "f1.write(a)\n",
    "f1.close()\n",
    "f1=open('file','a')\n",
    "d=\"\\nReading in is ITER\"\n",
    "c=f1.write(d)\n",
    "f1.close()\n",
    "f1=open('file','r')\n",
    "c=f1.readlines()\n",
    "for i in range(0,len(c)):\n",
    "    g+=c[i]\n",
    "print(g)\n",
    "print(g.count(\"is\"))\n",
    "f1.close()"
   ]
  },
  {
   "cell_type": "markdown",
   "id": "16da79b8-3824-4915-aa7f-3489b590d9a1",
   "metadata": {},
   "source": [
    "### Write a Python program to copy the contents of a file to another file .\t"
   ]
  },
  {
   "cell_type": "code",
   "execution_count": 9,
   "id": "f6128372-1f3d-4b57-a82b-af2d03efdebc",
   "metadata": {},
   "outputs": [
    {
     "name": "stdout",
     "output_type": "stream",
     "text": [
      "Hello world\n"
     ]
    }
   ],
   "source": [
    "f1=open('FILE', 'w')\n",
    "a=\"Hello world\"\n",
    "b=f1.write(a)\n",
    "f1.close()\n",
    "f2=open('FILE', 'r')\n",
    "c=f2.read()\n",
    "f2.close()\n",
    "f3=open('file', 'w')\n",
    "f3.write(c)\n",
    "print(c)\n",
    "f3.close()"
   ]
  },
  {
   "cell_type": "markdown",
   "id": "9c315956-5767-4f4c-bcde-b561f12ba40f",
   "metadata": {},
   "source": [
    "### Write a Python program that prompts the user to input an integer and raises a ValueError exception if the input is not a valid integer."
   ]
  },
  {
   "cell_type": "code",
   "execution_count": 11,
   "id": "2423f1f2-2d3e-4f88-b932-7c77fa9f2c0d",
   "metadata": {},
   "outputs": [
    {
     "name": "stdin",
     "output_type": "stream",
     "text": [
      "Enter the num :  ty\n"
     ]
    },
    {
     "name": "stdout",
     "output_type": "stream",
     "text": [
      "Invalid \n",
      "Please.'Enter a Valid ! Except only 'INTEGERS'\n"
     ]
    }
   ],
   "source": [
    "try: \n",
    "    num=int(input(\"Enter the num : \"))\n",
    "    raise ValueError\n",
    "except:\n",
    "    print(\"Invalid \")\n",
    "    print(\"Please.'Enter a Valid ! Except only 'INTEGERS'\") "
   ]
  },
  {
   "cell_type": "markdown",
   "id": "7a5d12ae-8cf6-48df-9c3d-fb7f46b73055",
   "metadata": {},
   "source": [
    "### Write a Python program that opens a file and handles a FileNotFoundError exception if the file does not exist."
   ]
  },
  {
   "cell_type": "code",
   "execution_count": 14,
   "id": "48cd10a1-5c1e-4108-9797-50eaa1caa44a",
   "metadata": {},
   "outputs": [
    {
     "name": "stdin",
     "output_type": "stream",
     "text": [
      "Input a file name:  f1\n"
     ]
    },
    {
     "name": "stdout",
     "output_type": "stream",
     "text": [
      "Error: File not found.\n"
     ]
    }
   ],
   "source": [
    "\n",
    "def open_file(filename):\n",
    "    try:\n",
    "        file = open(filename, 'r')\n",
    "        contents = file.read()\n",
    "        print(\"File contents:\")\n",
    "        print(contents)\n",
    "        file.close()\n",
    "    except FileNotFoundError:\n",
    "        print(\"Error: File not found.\")\n",
    "\n",
    "\n",
    "file_name = input(\"Input a file name: \")\n",
    "open_file(file_name)"
   ]
  },
  {
   "cell_type": "markdown",
   "id": "5c2fb508-f579-452a-a9e3-7871a250146e",
   "metadata": {},
   "source": [
    "### Write a Python program that prompts the user to input two numbers and raises a TypeError exception if the inputs are not numerical"
   ]
  },
  {
   "cell_type": "code",
   "execution_count": 21,
   "id": "549fe892-fb95-47c0-8c3b-2501b66d9ac1",
   "metadata": {},
   "outputs": [
    {
     "name": "stdin",
     "output_type": "stream",
     "text": [
      "Input the first number:  56\n",
      "Input the second number:  lk\n"
     ]
    },
    {
     "name": "stdout",
     "output_type": "stream",
     "text": [
      "Invalid\n"
     ]
    }
   ],
   "source": [
    "try:\n",
    "    num1=int(input(\"Input the first number: \"))\n",
    "    num2=int(input(\"Input the second number: \"))\n",
    "    raise ValueError\n",
    "    \n",
    "except ValueError:\n",
    "        print(\"Invalid\")"
   ]
  },
  {
   "cell_type": "markdown",
   "id": "adc32a95-150a-4150-9048-5118bb7cc6d2",
   "metadata": {},
   "source": [
    "### Write a Python program that executes an operation on a list and handles an IndexError exception if the index is out of range"
   ]
  },
  {
   "cell_type": "code",
   "execution_count": 23,
   "id": "209fe245-4870-4ad7-8d3e-2cfa35ae840b",
   "metadata": {},
   "outputs": [
    {
     "name": "stdin",
     "output_type": "stream",
     "text": [
      "Input the index:  5\n"
     ]
    },
    {
     "name": "stdout",
     "output_type": "stream",
     "text": [
      "Result: 6\n"
     ]
    }
   ],
   "source": [
    "def test_index(data, index):\n",
    "    try:\n",
    "        result = data[index]\n",
    "        print(\"Result:\", result)\n",
    "    except IndexError:\n",
    "        print(\"Error: Index out of range.\")\n",
    "\n",
    "nums = [1, 2, 3, 4, 5, 6, 7]\n",
    "index = int(input(\"Input the index: \"))\n",
    "test_index(nums, index)"
   ]
  },
  {
   "cell_type": "markdown",
   "id": "0647298f-ecca-4db0-a09b-14012c064530",
   "metadata": {},
   "source": [
    "### Write a Python program to create a person class. Include attributes like name, country, and date of birth. Implement a method to determine the person's age"
   ]
  },
  {
   "cell_type": "code",
   "execution_count": 49,
   "id": "76beef53-5b19-48b0-bb8c-a18c7b313cb1",
   "metadata": {},
   "outputs": [
    {
     "name": "stdout",
     "output_type": "stream",
     "text": [
      "Person 1:\n",
      "Name: Suranjit Shaw\n",
      "Country: INDIA\n",
      "Date of Birth: 2004-06-02\n",
      "Age: 19\n",
      "\n",
      "Person 2:\n",
      "Name: Satyanistha Das\n",
      "Country: INDIA\n",
      "Date of Birth: 2005-04-05\n",
      "Age: 18\n",
      "\n",
      "Person 3:\n",
      "Name: Nihar Dash\n",
      "Country: INDIA\n",
      "Date of Birth: 2003-07-05\n",
      "Age: 20\n"
     ]
    }
   ],
   "source": [
    "from datetime import date\n",
    "\n",
    "class Person:\n",
    "    def __init__(self, name, country, date_of_birth):\n",
    "        self.name = name\n",
    "        self.country = country\n",
    "        self.date_of_birth = date_of_birth\n",
    "    \n",
    "    def calculate_age(self):\n",
    "        today = date.today()\n",
    "        age = today.year - self.date_of_birth.year\n",
    "        if today < date(today.year, self.date_of_birth.month, self.date_of_birth.day):\n",
    "            age -= 1\n",
    "        return age\n",
    "\n",
    "\n",
    "person1 = Person(\"Suranjit Shaw\", \"INDIA\", date(2004, 6,2 ))\n",
    "person2 = Person(\"Satyanistha Das\", \"INDIA\", date(2005, 4, 5))\n",
    "person3 = Person(\"Nihar Dash\", \"INDIA\", date(2003, 7, 5))\n",
    "\n",
    "print(\"Person 1:\")\n",
    "print(\"Name:\", person1.name)\n",
    "print(\"Country:\", person1.country)\n",
    "print(\"Date of Birth:\", person1.date_of_birth)\n",
    "print(\"Age:\", person1.calculate_age())\n",
    "\n",
    "print()\n",
    "print(\"Person 2:\")\n",
    "print(\"Name:\", person2.name)\n",
    "print(\"Country:\", person2.country)\n",
    "print(\"Date of Birth:\" , person2.date_of_birth)\n",
    "print(\"Age:\", person2.calculate_age())\n",
    "\n",
    "print()\n",
    "print(\"Person 3:\")\n",
    "print(\"Name:\", person3.name)\n",
    "print(\"Country:\", person3.country)\n",
    "print(\"Date of Birth:\", person3.date_of_birth)\n",
    "print(\"Age:\", person3.calculate_age())"
   ]
  },
  {
   "cell_type": "markdown",
   "id": "ab7eed29-df14-495d-a4d0-28e6b740a05e",
   "metadata": {},
   "source": [
    "### Write a Python program to create a calculator class. Include methods for basic arithmetic operations"
   ]
  },
  {
   "cell_type": "code",
   "execution_count": 2,
   "id": "618cfb7d-860f-450c-adc1-a600f40b1e25",
   "metadata": {},
   "outputs": [
    {
     "name": "stdin",
     "output_type": "stream",
     "text": [
      "Enter X:  10\n",
      "enter y:  5\n"
     ]
    },
    {
     "name": "stdout",
     "output_type": "stream",
     "text": [
      "Sum is( 10 + 5 )= 15\n",
      "Difference is( 10 - 5 )= 5\n",
      "product is( 10 * 5 )= 50\n",
      "Quotient is( 10 / 5 )= 2.0\n",
      "Remainder is( 10 % 5 )= 0\n"
     ]
    }
   ],
   "source": [
    "class Calculator:\n",
    "    def add(self, x, y):\n",
    "        return x + y\n",
    "\n",
    "    def subtract(self, x, y):\n",
    "        return x - y\n",
    "\n",
    "    def multiply(self, x, y):\n",
    "        return x * y\n",
    "\n",
    "    def quotient(self, x, y):\n",
    "        if y != 0:\n",
    "            return x / y\n",
    "        else:\n",
    "            return (\"Cannot divide by zero.\")\n",
    "    def remainder(self, x, y):\n",
    "        if y != 0:\n",
    "            return x % y\n",
    "        else:\n",
    "            return (\"Cannot divide by zero.\")\n",
    "        \n",
    "\n",
    "calculator = Calculator()\n",
    "\n",
    "x=int(input(\"Enter X: \"))\n",
    "y=int(input(\"enter y: \"))\n",
    "\n",
    "result = calculator.add(x, y)\n",
    "print(\"Sum is(\",x ,\"+\", y ,\")=\" , result)\n",
    "\n",
    "result = calculator.subtract(x, y)\n",
    "print(\"Difference is(\" ,x ,\"-\", y ,\")=\" , result)\n",
    "\n",
    "result = calculator.multiply(x, y)\n",
    "print(\"product is(\",x ,\"*\", y ,\")=\", result)\n",
    "\n",
    "result = calculator.quotient(x, y)\n",
    "print(\"Quotient is(\", x ,\"/\", y ,\")=\", result)\n",
    "\n",
    "\n",
    "result = calculator.remainder(x, y)\n",
    "print(\"Remainder is(\", x ,\"%\", y ,\")=\", result)"
   ]
  },
  {
   "cell_type": "markdown",
   "id": "9f0b18da-40f4-4ebb-b7b1-c5872295707b",
   "metadata": {},
   "source": [
    "### Write a Python program to create a class representing a shopping cart. Include methods for adding and removing items, and calculating the total price."
   ]
  },
  {
   "cell_type": "code",
   "execution_count": 2,
   "id": "a59fd09c-8471-42e7-8b14-19816ad729de",
   "metadata": {},
   "outputs": [
    {
     "name": "stdout",
     "output_type": "stream",
     "text": [
      "Current Items in Cart:\n",
      "Papaya - 100\n",
      "Guava - 200\n",
      "Orange - 150\n",
      "Total Quantity: 450\n",
      "\n",
      "Updated Items in Cart after removing Orange:\n",
      "Papaya - 100\n",
      "Guava - 200\n",
      "Total Quantity: 300\n"
     ]
    }
   ],
   "source": [
    "class ShoppingCart:\n",
    "    def __init__(self):\n",
    "        self.items = []\n",
    "\n",
    "    def add_item(self, item_name, qty):\n",
    "        item = (item_name, qty)\n",
    "        self.items.append(item)\n",
    "\n",
    "    def remove_item(self, item_name):\n",
    "        for item in self.items:\n",
    "            if item[0] == item_name:\n",
    "                self.items.remove(item)\n",
    "                break\n",
    "\n",
    "    def calculate_total(self):\n",
    "        total = 0\n",
    "        for item in self.items:\n",
    "            total += item[1]\n",
    "        return total\n",
    "\n",
    "cart = ShoppingCart()\n",
    "\n",
    "cart.add_item(\"Papaya\", 100)\n",
    "cart.add_item(\"Guava\", 200)\n",
    "cart.add_item(\"Orange\", 150)\n",
    "\n",
    "print(\"Current Items in Cart:\")\n",
    "for item in cart.items:\n",
    "    print(item[0], \"-\", item[1])\n",
    "\n",
    "total_qty = cart.calculate_total()\n",
    "print(\"Total Quantity:\", total_qty)\n",
    "\n",
    "cart.remove_item(\"Orange\")\n",
    "print(\"\\nUpdated Items in Cart after removing Orange:\")\n",
    "for item in cart.items:\n",
    "    print(item[0], \"-\", item[1])\n",
    "\n",
    "total_qty = cart.calculate_total()\n",
    "print(\"Total Quantity:\", total_qty) "
   ]
  },
  {
   "cell_type": "markdown",
   "id": "16f90739-c192-48fb-a4b9-2e5c459b4bca",
   "metadata": {},
   "source": [
    "### Write a Python program to create a class representing a bank. Include methods for managing customer accounts and transactions."
   ]
  },
  {
   "cell_type": "code",
   "execution_count": 4,
   "id": "f2ab5e18-f92c-493f-b2ca-a5d7199da63c",
   "metadata": {},
   "outputs": [
    {
     "name": "stdout",
     "output_type": "stream",
     "text": [
      "New a/c No.:  SB-123 Deposit Amount: 1000\n",
      "Account created successfully.\n",
      "New a/c No.:  SB-124 Deposit Amount: 1500\n",
      "Account created successfully.\n",
      "\n",
      "Deposit Rs. 600 to A/c No. SB-123\n",
      "Deposit successful.\n",
      "Withdraw Rs. 350 From A/c No. SB-124\n",
      "Withdrawal successful.\n",
      "A/c. No. SB-123\n",
      "Account balance: 1600\n",
      "A/c. No. SB-124\n",
      "Account balance: 1150\n",
      "Withdraw Rs. 1200 From A/c No. SB-124\n",
      "Insufficient funds.\n",
      "A/c. No. SB-134\n",
      "Account number does not exist.\n"
     ]
    }
   ],
   "source": [
    "class Bank:\n",
    "    def __init__(self):\n",
    "        self.customers = {}\n",
    "    def create_account(self, account_number, initial_balance=0):\n",
    "        if account_number in self.customers:\n",
    "            print(\"Account number already exists.\")\n",
    "        else:\n",
    "            self.customers[account_number] = initial_balance\n",
    "            print(\"Account created successfully.\")\n",
    "    \n",
    "    def make_deposit(self, account_number, amount):\n",
    "        if account_number in self.customers:\n",
    "            self.customers[account_number] += amount\n",
    "            print(\"Deposit successful.\")\n",
    "        else:\n",
    "            print(\"Account number does not exist.\")\n",
    "\n",
    "    def make_withdrawal(self, account_number, amount):\n",
    "        if account_number in self.customers:\n",
    "            if self.customers[account_number] >= amount:\n",
    "                self.customers[account_number] -= amount\n",
    "                print(\"Withdrawal successful.\")\n",
    "            else:\n",
    "                print(\"Insufficient funds.\")\n",
    "        else:\n",
    "            print(\"Account number does not exist.\")\n",
    "\n",
    "    def check_balance(self, account_number):\n",
    "        if account_number in self.customers:\n",
    "            balance = self.customers[account_number]\n",
    "            print(f\"Account balance: {balance}\")\n",
    "        else:\n",
    "            print(\"Account number does not exist.\")\n",
    "\n",
    "\n",
    "bank = Bank()\n",
    "\n",
    "acno1= \"SB-123\"\n",
    "damt1 = 1000\n",
    "print(\"New a/c No.: \",acno1,\"Deposit Amount:\",damt1)\n",
    "bank.create_account(acno1, damt1)\n",
    "\n",
    "acno2= \"SB-124\"\n",
    "damt2 = 1500\n",
    "print(\"New a/c No.: \",acno2,\"Deposit Amount:\",damt2)\n",
    "bank.create_account(acno2, damt2)\n",
    "\n",
    "wamt1 = 600\n",
    "print(\"\\nDeposit Rs.\",wamt1,\"to A/c No.\",acno1)\n",
    "bank.make_deposit(acno1, wamt1)\n",
    "\n",
    "wamt2 = 350\n",
    "print(\"Withdraw Rs.\",wamt2,\"From A/c No.\",acno2)\n",
    "bank.make_withdrawal(acno2, wamt2)\n",
    "\n",
    "print(\"A/c. No.\",acno1)\n",
    "bank.check_balance(acno1)\n",
    "\n",
    "print(\"A/c. No.\",acno2)\n",
    "bank.check_balance(acno2)\n",
    "\n",
    "wamt3 = 1200\n",
    "print(\"Withdraw Rs.\",wamt3,\"From A/c No.\",acno2)\n",
    "bank.make_withdrawal(acno2, wamt3)\n",
    "\n",
    "acno3 = \"SB-134\"\n",
    "print(\"A/c. No.\",acno3)\n",
    "bank.check_balance(acno3) "
   ]
  },
  {
   "cell_type": "markdown",
   "id": "0b029742-94c4-49ff-8d24-90b42135a3a1",
   "metadata": {},
   "source": [
    "## ASSIGNMENT-1  Question"
   ]
  },
  {
   "cell_type": "code",
   "execution_count": 16,
   "id": "f71fb496-472b-46d5-a9ec-1bfbc8474710",
   "metadata": {},
   "outputs": [
    {
     "name": "stdin",
     "output_type": "stream",
     "text": [
      "Enter the unit of measurement (feet or meters):  feet\n",
      "Enter the width of the room in feet:  5\n",
      "Enter the length of the room in feet:  5\n"
     ]
    },
    {
     "name": "stdout",
     "output_type": "stream",
     "text": [
      "The area of the room is 2.322576 square meters.\n"
     ]
    }
   ],
   "source": [
    "def main():\n",
    "    unit = input(\"Enter the unit of measurement (feet or meters): \")\n",
    "    width = float(input(f\"Enter the width of the room in {unit}: \"))\n",
    "    length = float(input(f\"Enter the length of the room in {unit}: \"))\n",
    "    \n",
    "    if unit.lower() == 'feet':\n",
    "        width *= 0.3048  \n",
    "        length *= 0.3048\n",
    "    \n",
    "    area = width * length\n",
    "    \n",
    "    print(\"The area of the room is\", area , \"square meters.\")\n",
    "\n",
    "if __name__ == \"__main__\":\n",
    "    main()\n"
   ]
  }
 ],
 "metadata": {
  "kernelspec": {
   "display_name": "Python 3 (ipykernel)",
   "language": "python",
   "name": "python3"
  },
  "language_info": {
   "codemirror_mode": {
    "name": "ipython",
    "version": 3
   },
   "file_extension": ".py",
   "mimetype": "text/x-python",
   "name": "python",
   "nbconvert_exporter": "python",
   "pygments_lexer": "ipython3",
   "version": "3.11.5"
  }
 },
 "nbformat": 4,
 "nbformat_minor": 5
}
